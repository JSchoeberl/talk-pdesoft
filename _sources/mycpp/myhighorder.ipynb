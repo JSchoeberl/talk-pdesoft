{
 "cells": [
  {
   "cell_type": "markdown",
   "id": "5dc5bf2d",
   "metadata": {},
   "source": [
    "# Implementation of High Order Finite Elements"
   ]
  },
  {
   "cell_type": "markdown",
   "id": "7af9450d",
   "metadata": {},
   "source": [
    "A starting point to NGSolve-programming, used in my finite element class.\n",
    "\n",
    "Get repository from [github](https://github.com/TUWien-ASC/NGS-myhofe.git)\n",
    "\n",
    "* Finite elements implement the basis functions:\n",
    "  `myhoelement.hpp` and `myhoelement.cpp`\n",
    "\n",
    "* Finite element spaces implement the enumeration of degrees of freedom, and creation of elements:\n",
    "  `myhofespace.hpp` and `myhofespace.cpp`\n",
    "\n",
    "See [Dissertation Sabine Zaglmayr](https://numa.jku.at/media/filer_public/e6/98/e6988974-e1ce-4cb2-ac0e-bcffd20350e7/phd-zaglmayr.pdf) , page 60 ff"
   ]
  },
  {
   "cell_type": "markdown",
   "id": "db4ce7f2-995b-4905-94ea-332b18fe44e2",
   "metadata": {},
   "source": [
    "Basis functions are based on *Legendre polynomials* $P_i$:\n",
    "\n",
    "<img src=\"Legendre.png\" alt=\"Legendre polynomials\" width=\"300\" align=\"center\"/>\n",
    "\n",
    "and on *Integrated Legendre polynomials* $L_{i+1}(x) := \\int_{-1}^x P_i(s) ds$\n",
    "\n",
    "<img src=\"IntegratedLegendre.png\" alt=\"Legendre polynomials\" width=\"300\" align=\"center\"/>\n",
    "\n",
    "The integrated Legendre polynomials vanish at the boundary, and thus are useful for bubble functions.\n",
    "\n",
    "\n",
    "**Basis functions for the segment:**\n",
    "\n",
    "Vertex basis functions:\n",
    "\n",
    "$$\n",
    "\\varphi_i(x) = \\lambda_i(x) \\qquad 0 \\leq i < 2\n",
    "$$\n",
    "\n",
    "Inner basis functions (on edges), where $\\lambda_s$ and $\\lambda_e$ are barycentric for the start-point, and end-point of the edge:\n",
    "\n",
    "$$\n",
    "\\varphi^E_i(x) = L_{i+2}(\\lambda_e - \\lambda_s) \\qquad 0 \\leq i < p-1\n",
    "$$\n",
    "\n",
    "\n",
    "**Basis functions for the triangle:**\n",
    "\n",
    "\n",
    "Vertex basis functions:\n",
    "\n",
    "$$\n",
    "\\varphi_i(x) = \\lambda_i(x) \\qquad 0 \\leq i < 3\n",
    "$$\n",
    "\n",
    "Edge-based basis functions on the edge E, where $\\lambda_s$ and $\\lambda_e$ are barycentric for the start-point, and end-point of the edge:\n",
    "\n",
    "$$\n",
    "\\varphi^E_i(x,y) = L_{i+2}\\left(\\frac{\\lambda_e - \\lambda_s}{\\lambda_e + \\lambda_s} \\right) (\\lambda_e+\\lambda_s)^{i+2} \\qquad 0 \\leq i < p-1\n",
    "$$\n",
    "\n",
    "* on the edge E, there is $\\lambda_s + \\lambda_e = 1$, and thus the function corresponds with the integrated Legendre polynomials $L_{i+2}$.\n",
    "* on the other two edges, either $\\lambda_s = 0$ or $\\lambda_e = 0$. Thus, the argument of $L_{i+2}$ is either $-1$, or $+1$. Thus, the shape function vanishes at the other two edges.\n",
    "* The first factor is a rational function. Then we multiply with a polynomial, such that the denominator cancels out. Thus the basis functions are polynomials.\n",
    "\n",
    "Inner basis functions (on the triangular face F):\n",
    "\n",
    "$$\n",
    "\\varphi^F_{i,j}(x,y) = L_{i+2}\\left(\\frac{\\lambda_0 - \\lambda_1}{\\lambda_0 + \\lambda_1} \\right) (\\lambda_0+\\lambda_1)^{i+2} \n",
    "P_j (2 \\lambda_2 -1) \\lambda_2 \\qquad 0 \\leq i,j \\text{ and } i+j \\leq p-3\n",
    "$$\n"
   ]
  },
  {
   "cell_type": "code",
   "execution_count": 1,
   "id": "fb29e374",
   "metadata": {},
   "outputs": [
    {
     "name": "stdout",
     "output_type": "stream",
     "text": [
      "Loading myhofe library\n"
     ]
    }
   ],
   "source": [
    "from ngsolve import *\n",
    "from ngsolve.webgui import Draw\n",
    "from myhofe import MyHighOrderFESpace\n",
    "\n",
    "mesh = Mesh(unit_square.GenerateMesh(maxh=0.2, quad_dominated=False))"
   ]
  },
  {
   "cell_type": "markdown",
   "id": "74066dcd",
   "metadata": {},
   "source": [
    "We can now create an instance of our own finite element space:"
   ]
  },
  {
   "cell_type": "code",
   "execution_count": 2,
   "id": "122e9720",
   "metadata": {},
   "outputs": [],
   "source": [
    "fes = MyHighOrderFESpace(mesh, order=4, dirichlet=\"left|bottom|top\")"
   ]
  },
  {
   "cell_type": "markdown",
   "id": "23837763",
   "metadata": {},
   "source": [
    "and use it within NGSolve such as the builtin finite element spaces:"
   ]
  },
  {
   "cell_type": "code",
   "execution_count": 3,
   "id": "627a9cfb",
   "metadata": {},
   "outputs": [
    {
     "name": "stdout",
     "output_type": "stream",
     "text": [
      "ndof =  489\n"
     ]
    }
   ],
   "source": [
    "print (\"ndof = \", fes.ndof)"
   ]
  },
  {
   "cell_type": "code",
   "execution_count": 4,
   "id": "ae0deee7",
   "metadata": {},
   "outputs": [
    {
     "data": {
      "application/vnd.jupyter.widget-view+json": {
       "model_id": "af52fcca85c24009863d2e1b67ef6ea8",
       "version_major": 2,
       "version_minor": 0
      },
      "text/plain": [
       "WebGuiWidget(layout=Layout(height='50vh', width='100%'), value={'gui_settings': {}, 'ngsolve_version': '6.2.24…"
      ]
     },
     "metadata": {},
     "output_type": "display_data"
    },
    {
     "data": {
      "application/vnd.jupyter.widget-view+json": {
       "model_id": "8f489000bbd541b3a908f01fcd70f524",
       "version_major": 2,
       "version_minor": 0
      },
      "text/plain": [
       "WebGuiWidget(layout=Layout(height='50vh', width='100%'), value={'gui_settings': {}, 'ngsolve_version': '6.2.24…"
      ]
     },
     "metadata": {},
     "output_type": "display_data"
    }
   ],
   "source": [
    "gfu = GridFunction(fes)\n",
    "gfu.Set(x*x*y*y)\n",
    "\n",
    "Draw (gfu)\n",
    "Draw (grad(gfu)[0], mesh);"
   ]
  },
  {
   "cell_type": "markdown",
   "id": "b93211e8",
   "metadata": {},
   "source": [
    "and solve the standard problem:"
   ]
  },
  {
   "cell_type": "code",
   "execution_count": 5,
   "id": "5402e517",
   "metadata": {},
   "outputs": [
    {
     "data": {
      "application/vnd.jupyter.widget-view+json": {
       "model_id": "97524b3643ea4a2c8c23cc6fbdbcc667",
       "version_major": 2,
       "version_minor": 0
      },
      "text/plain": [
       "WebGuiWidget(layout=Layout(height='50vh', width='100%'), value={'gui_settings': {}, 'ngsolve_version': '6.2.24…"
      ]
     },
     "metadata": {},
     "output_type": "display_data"
    }
   ],
   "source": [
    "u,v = fes.TnT()\n",
    "a = BilinearForm(grad(u)*grad(v)*dx).Assemble()\n",
    "f = LinearForm(10*v*dx).Assemble()\n",
    "gfu.vec.data = a.mat.Inverse(fes.FreeDofs())*f.vec\n",
    "Draw (gfu, order=3);"
   ]
  },
  {
   "cell_type": "code",
   "execution_count": 6,
   "id": "c6f1680c",
   "metadata": {},
   "outputs": [
    {
     "name": "stdout",
     "output_type": "stream",
     "text": [
      "[(1, 0.01847055901539437), (2, 0.001602867737861007), (3, 0.00011616801306623018), (4, 5.80381522697493e-06), (5, 4.056875367007684e-07), (6, 1.048343875462942e-08), (7, 7.453640290725862e-10), (8, 1.2043500423808693e-11), (9, 8.774042421818231e-13), (10, 2.719534046832653e-13), (11, 5.762636757076888e-13), (12, 1.2327308722814043e-12)]\n"
     ]
    }
   ],
   "source": [
    "errlist = []\n",
    "for p in range(1,13):\n",
    "    fes = MyHighOrderFESpace(mesh, order=p)\n",
    "    func = sin(pi*x)*sin(pi*y)\n",
    "    gfu = GridFunction(fes)\n",
    "    gfu.Set(func)\n",
    "    err = sqrt(Integrate( (func-gfu)**2, mesh, order=5+2*p))\n",
    "    errlist.append((p,err))\n",
    "print (errlist)"
   ]
  },
  {
   "cell_type": "code",
   "execution_count": 7,
   "id": "9e204cbe",
   "metadata": {},
   "outputs": [
    {
     "data": {
      "image/png": "[encoded data removed]",
      "text/plain": [
       "<Figure size 640x480 with 1 Axes>"
      ]
     },
     "metadata": {},
     "output_type": "display_data"
    }
   ],
   "source": [
    "import matplotlib.pyplot as plt\n",
    "n,err = zip(*errlist)\n",
    "plt.yscale('log')\n",
    "plt.plot(n,err);"
   ]
  },
  {
   "cell_type": "markdown",
   "id": "ad3d3978",
   "metadata": {},
   "source": [
    "**Exercises:**\n",
    "\n",
    "Extend MyHighOrderFESpace by high order quadrilateral elements."
   ]
  },
  {
   "cell_type": "code",
   "execution_count": null,
   "id": "7c1edee8",
   "metadata": {},
   "outputs": [],
   "source": []
  }
 ],
 "metadata": {
  "kernelspec": {
   "display_name": "Python 3 (ipykernel)",
   "language": "python",
   "name": "python3"
  },
  "language_info": {
   "codemirror_mode": {
    "name": "ipython",
    "version": 3
   },
   "file_extension": ".py",
   "mimetype": "text/x-python",
   "name": "python",
   "nbconvert_exporter": "python",
   "pygments_lexer": "ipython3",
   "version": "3.12.4"
  }
 },
 "nbformat": 4,
 "nbformat_minor": 5
}
