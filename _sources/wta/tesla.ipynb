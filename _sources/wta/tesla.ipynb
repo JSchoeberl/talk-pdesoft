{
 "cells": [
  {
   "cell_type": "markdown",
   "metadata": {},
   "source": [
    "# Tesla Valve\n",
    "\n",
    "Example provided by Philip Lederer."
   ]
  },
  {
   "cell_type": "markdown",
   "metadata": {},
   "source": [
    "The original drawing by N. Tesla in his patent (US patent 1329559 \"Valvular Conduit\"):\n",
    "\n",
    "<img src=\"figures/tesla_patent.png\" alt=\"tesla\" width=\"650\" align=\"center\"/>\n",
    "\n",
    "Geometry: [tesla.py](tesla.py)"
   ]
  },
  {
   "cell_type": "code",
   "execution_count": null,
   "metadata": {},
   "outputs": [],
   "source": [
    "from ngsolve import *\n",
    "from netgen.occ import *\n",
    "from ngsolve.webgui import Draw\n",
    "import ipywidgets as widgets"
   ]
  },
  {
   "cell_type": "code",
   "execution_count": null,
   "metadata": {
    "tags": [
     "hide-input"
    ]
   },
   "outputs": [],
   "source": [
    "def GetValve(N, dim, R = 1.4, alpha = 45, Winlet = 1, beta = 190, L1 = 11, L2 = 6, Linlet = 5, closevalve = False):\n",
    "    alphar = alpha * pi/180\n",
    "    W = 1/cos(alphar/2)\n",
    "    facW = 1\n",
    "    Winlet2 =  Winlet\n",
    "        \n",
    "    wp = WorkPlane()\n",
    "    p1 = 0\n",
    "    p2 = 0\n",
    "\n",
    "    wp.MoveTo(p1,p1) \n",
    "    r1 = Rectangle(L1,W).Face()\n",
    "    \n",
    "    r2 = wp.MoveTo(p1,p2+W).Rotate(-90+alpha).Move(W).Rotate(90).Rectangle(L2,W).Face()\n",
    "    \n",
    "    wp.MoveTo(p1,p2+W).Move(L2)\n",
    "    c1 = Face(wp.Arc(W + R, -beta).Line(L1).Rotate(-90).Line(W).Rotate(-90).Line(L1).Arc(R,beta).Close().Wire())\n",
    "    wp.MoveTo(0,W).Direction(1,0)\n",
    "    cutplane = Rectangle(2*L1,4*L1).Face()\n",
    "    \n",
    "\n",
    "    v1 = r1 + r2  + (cutplane*c1) \n",
    "    \n",
    "    ll = L1 + L1 * cos(alphar) - cos(alphar) * W\n",
    "    hh = L1 * sin(alphar) - (1-sin(alphar)) * W\n",
    "    didi = sqrt((L1 + L1 * cos(alphar))**2 + (L1 * sin(alphar))**2 ) - 2*W * sin(alphar/2) \n",
    "    \n",
    "    dd = gp_Dir(cos(alpha), sin(alpha),0)\n",
    "    v2 = v1.Mirror(Axis((0,0,0), X)).Move((0,W,0)).Rotate(Axis((0,0,0), Z), alpha).Move((L1,0,0))\n",
    "\n",
    "    onevalve = (v1 + v2.Reversed()).Move((0,-W/2,0)).Rotate(Axis((0,0,0), Z), -alpha/2)\n",
    "\n",
    "    vv = onevalve\n",
    "    \n",
    "    for i in range(1,N):\n",
    "        vv = onevalve.Move((didi * i ,0, 0)) + vv\n",
    "        \n",
    "    \n",
    "    \n",
    "    inlet = wp.MoveTo(-Linlet,-Winlet2/2).Rectangle(Linlet* facW + W * sin(alphar/2) ,Winlet2).Face()\n",
    "    outlet = wp.MoveTo(didi*N + W/2 * sin(alphar/2)* facW,-Winlet2/2).Rectangle(Linlet ,Winlet2).Face()\n",
    "    vv = inlet + vv + outlet\n",
    "    \n",
    "    if closevalve == True:\n",
    "        c1_x = -Linlet\n",
    "        c1_y = -Winlet2/2\n",
    "\n",
    "        c2_x = didi*N + W/2 * sin(alphar/2)* facW + Linlet\n",
    "        c2_y = -Winlet2/2\n",
    "        \n",
    "        wp.MoveTo(c1_x, c1_y).Direction(-1,0)\n",
    "        R2 = 3\n",
    "        LL = c2_x - c1_x\n",
    "        # close = Face(wp.Arc(R2+Winlet2,180).Line(LL).Arc(R2+Winlet2,180).Rotate(90).Line(Winlet2).Rotate(90).Arc(R2,-180).Line(LL).Arc(R2,-180).Close().Wire())\n",
    "        \n",
    "        close = Face(wp.Arc(R2+Winlet2,-180).Line(LL).Arc(R2+Winlet2,-180).Rotate(-90).Line(Winlet2).Rotate(-90).Arc(R2,180).Line(LL).Arc(R2,180).Close().Wire()).Reversed()\n",
    "        # close.face.name\n",
    "\n",
    "    teslavalve = vv\n",
    "    # vv = onevalve\n",
    "    if dim == 3:\n",
    "        teslavalve = vv.Extrude( Winlet*Z )\n",
    "        teslavalve.faces.name=\"wall\"\n",
    "        \n",
    "    \n",
    "        if closevalve == False:\n",
    "            teslavalve.faces.Min(X).name=\"inlet\"\n",
    "            teslavalve.faces.Max(X).name=\"outlet\"\n",
    "            teslavalve.faces.Min(X).Identify(teslavalve.faces.Max(X),\"periodic\", IdentificationType.PERIODIC)\n",
    "\n",
    "    else:\n",
    "        teslavalve.edges.name=\"wall\"\n",
    "        teslavalve.faces.name=\"valve\"\n",
    "        teslavalve.edges.Min(X).name=\"inlet\"\n",
    "        teslavalve.edges.Max(X).name=\"outlet\"\n",
    "        \n",
    "        if closevalve == True:\n",
    "            close.edges.name = \"wall\"\n",
    "            teslavalve =  Glue([teslavalve, close])\n",
    "    \n",
    "        if closevalve == False:        \n",
    "            teslavalve.edges.Min(X).Identify(teslavalve.edges.Max(X),\"periodic\", IdentificationType.PERIODIC)\n",
    "\n",
    "    return teslavalve"
   ]
  },
  {
   "cell_type": "code",
   "execution_count": null,
   "metadata": {},
   "outputs": [],
   "source": [
    "valve = GetValve(N = 3, dim = 2, R = 0.5, alpha = 25, Winlet = 1, beta = 180, L1 = 6.4, L2 = 7, Linlet = 5, closevalve = True)\n",
    "mesh = Mesh(OCCGeometry(valve, dim=2).GenerateMesh(maxh = 0.5)).Curve(3)\n",
    "Draw(mesh);"
   ]
  },
  {
   "cell_type": "markdown",
   "metadata": {},
   "source": [
    "Apply volume force to the left or to the right, compute mass flow."
   ]
  },
  {
   "cell_type": "code",
   "execution_count": null,
   "metadata": {},
   "outputs": [],
   "source": [
    "nu = 0.005   # viscosity\n",
    "tau = 0.002  # time step\n",
    "tend = 50    # end time\n",
    "order = 2    # fem order (velocity)"
   ]
  },
  {
   "cell_type": "markdown",
   "metadata": {},
   "source": [
    "Use H(div)-conforming Hybrid DG method (Lehrenfeld-Schöberl, 2016):\n",
    "\n",
    "* velocity: $BDM^k$\n",
    "* pressure: $P^{k-1}$"
   ]
  },
  {
   "cell_type": "code",
   "execution_count": null,
   "metadata": {},
   "outputs": [],
   "source": [
    "VT =   HDiv(mesh,order=order, dirichlet=\"wall\", hodivfree=True)\n",
    "Vhat = TangentialFacetFESpace(mesh,order=order, dirichlet=\"wall\")\n",
    "Q = L2(mesh,order=0)\n",
    "\n",
    "X = VT * Vhat * Q\n",
    "print (\"ndof:\", X.ndof)\n",
    "(u, uhat, p), (v, vhat, q) = X.TnT()\n",
    "\n",
    "n = specialcf.normal(mesh.dim)\n",
    "h = specialcf.mesh_size\n",
    "\n",
    "def tang(u): # tangential part of a vector field\n",
    "    return u - (u*n)*n"
   ]
  },
  {
   "cell_type": "markdown",
   "metadata": {},
   "source": [
    "implicit/explicit time-stepping:\n",
    "\n",
    "$$\n",
    "\\frac{u_{n+1}-u_n}{\\tau} - \\nu \\Delta u_{n+1} + \\nabla p_{n+1} = f - u_n \\nabla u_n\n",
    "$$\n",
    "and\n",
    "\n",
    "$$\n",
    "\\operatorname{div} u_{n+1} = 0\n",
    "$$"
   ]
  },
  {
   "cell_type": "markdown",
   "metadata": {},
   "source": [
    "Stokes-operator, modified mass-matrix, and right hand side:"
   ]
  },
  {
   "cell_type": "code",
   "execution_count": null,
   "metadata": {},
   "outputs": [],
   "source": [
    "dS = dx(element_boundary = True)\n",
    "\n",
    "stokes = (nu*InnerProduct(Grad(u), Grad(v)) - div(u)*q - div(v)*p - 1e-10/nu*p*q)*dx\n",
    "stokes += nu * Grad(u)*n * tang(v-vhat) * dS\n",
    "stokes += nu * Grad(v)*n * tang(u-uhat) * dS\n",
    "stokes += nu * 10 * order**2/h * tang(v-vhat)*tang(u-uhat) * dS\n",
    "\n",
    "K = BilinearForm(stokes, symmetric=True).Assemble()\n",
    "mstar = BilinearForm(u*v*dx + tau*stokes, symmetric=True).Assemble()\n",
    "inv = mstar.mat.Inverse(X.FreeDofs(), inverse = \"sparsecholesky\")\n",
    "\n",
    "f = LinearForm(CF((1,0)) * v * dx(definedon = mesh.Materials(\"valve\"))).Assemble()   "
   ]
  },
  {
   "cell_type": "markdown",
   "metadata": {},
   "source": [
    "Convective term: brand-new matrix-free operator application "
   ]
  },
  {
   "cell_type": "code",
   "execution_count": null,
   "metadata": {},
   "outputs": [],
   "source": [
    "conv = BilinearForm(X, nonlinear_matrix_free_bdb=True)\n",
    "conv += -InnerProduct(grad(v)*u, u) * dx(bonus_intorder=order)\n",
    "\n",
    "un = u.Operator(\"normalcomponent\")\n",
    "uhat_t = uhat.Operator(\"tangentialcomponent\")\n",
    "vn = v.Operator(\"normalcomponent\")\n",
    "conv += IfPos(un, un * u * v, 2 * un * un * vn + un * ((2*uhat_t-u) * v) ) * dx(element_boundary = True, bonus_intorder=order)\n",
    "conv.Assemble()\n",
    "conv_operator = conv.mat"
   ]
  },
  {
   "cell_type": "markdown",
   "metadata": {},
   "source": [
    "Averaging of tangential components to facet space:"
   ]
  },
  {
   "cell_type": "code",
   "execution_count": null,
   "metadata": {},
   "outputs": [],
   "source": [
    "u1, v1 = VT.TnT()\n",
    "uh1, vh1 = Vhat.TnT()\n",
    "\n",
    "massfacet = BilinearForm(tang(uh1)*tang(vh1)*dx(element_boundary=True)).Assemble()\n",
    "mixedmassfacet = BilinearForm(u1*tang(vh1)*dx(element_boundary=True)).Assemble()\n",
    "invfacet = massfacet.mat.CreateBlockSmoother(Vhat.CreateSmoothingBlocks(blocktype=\"facet\"))\n",
    "\n",
    "eu, euhat, ep = X.embeddings\n",
    "ru, ruhat, rp = X.restrictions\n",
    "avg_op = eu@ru + euhat@invfacet@mixedmassfacet.mat@ru"
   ]
  },
  {
   "cell_type": "code",
   "execution_count": null,
   "metadata": {},
   "outputs": [],
   "source": [
    "gfu = GridFunction(X)\n",
    "\n",
    "def Solve(factor=1, callback = lambda: None):\n",
    "    t = 0\n",
    "    cnt = 0\n",
    "    with TaskManager():\n",
    "        while t < tend:\n",
    "          res = factor*f.vec - conv_operator@avg_op * gfu.vec - K.mat * gfu.vec\n",
    "          gfu.vec.data += tau * inv * res    \n",
    "          \n",
    "          t += tau\n",
    "          cnt += 1\n",
    "          callback (cnt, gfu)"
   ]
  },
  {
   "cell_type": "code",
   "execution_count": null,
   "metadata": {},
   "outputs": [],
   "source": [
    "massflux = []\n",
    "massflux_reverse = []\n",
    "time = []\n",
    "gfut = GridFunction(gfu.components[0].space, multidim=0)\n",
    "gfut_reverse = GridFunction(gfu.components[0].space, multidim=0)\n",
    "\n",
    "\n",
    "scene = Draw(gfu.components[0], mesh, min=0, max=4, autoscale=False, vectors = {\"grid_size\": 100})\n",
    "tw = widgets.Text(value='t = 0')\n",
    "display(tw)\n",
    "\n",
    "def cbforward (cnt, gfu):\n",
    "    if cnt % 100 == 0: \n",
    "        scene.Redraw()\n",
    "        tw.value = \"t = \"+str(cnt*tau)\n",
    "    if cnt % 500 == 0:\n",
    "        gfut.AddMultiDimComponent(gfu.components[0].vec)\n",
    "        massflux.append(abs(Integrate(gfu.components[0]*n, mesh.Boundaries(\"inlet\"))))\n",
    "        time.append(cnt*tau)\n",
    "\n",
    "def cbreverse (cnt, gfu):\n",
    "    if cnt % 100 == 0: \n",
    "        scene.Redraw()\n",
    "        tw.value = \"t = \"+str(cnt*tau)\n",
    "    if cnt % 500 == 0:\n",
    "        gfut_reverse.AddMultiDimComponent(gfu.components[0].vec)\n",
    "        massflux_reverse.append(abs(Integrate(gfu.components[0]*n, mesh.Boundaries(\"inlet\"))))\n",
    "\n",
    "\n",
    "\n",
    "gfu.vec[:] = 0\n",
    "Solve (1, cbforward)\n",
    "\n",
    "gfu.vec[:] = 0\n",
    "Solve (-1, cbreverse)\n"
   ]
  },
  {
   "cell_type": "markdown",
   "metadata": {},
   "source": [
    "In the following plots we can see the solutions at $t = T_{end}$. We observe that for the flow from left to right the solution is much more turbulent and the valve is \"activated\" since the fluid stops it self. On the other hand, for the flow from right to left, the solution is nearly laminar and much faster. This can also be observed in the  the maxs flux ploted over time below."
   ]
  },
  {
   "cell_type": "code",
   "execution_count": null,
   "metadata": {},
   "outputs": [],
   "source": [
    "Draw (gfut, mesh, interpolate_multidim=True, animate=True,\n",
    "      min=0, max=4, autoscale=False, vectors = {\"grid_size\": 100});\n",
    "Draw (gfut_reverse, mesh, interpolate_multidim=True, animate=True,\n",
    "      min=0, max=6, autoscale=False, vectors = {\"grid_size\": 100});"
   ]
  },
  {
   "cell_type": "code",
   "execution_count": null,
   "metadata": {},
   "outputs": [],
   "source": [
    "import matplotlib.pyplot as plt\n",
    "\n",
    "plt.plot(time, massflux, \"-\", color = \"orange\", label = \"left_to_right\")\n",
    "plt.plot(time, massflux_reverse, \"-\", color = \"blue\", label = \"right_to_left\")\n",
    "plt.legend(loc = \"lower right\")\n",
    "plt.show()\n"
   ]
  },
  {
   "cell_type": "code",
   "execution_count": null,
   "metadata": {},
   "outputs": [],
   "source": []
  }
 ],
 "metadata": {
  "kernelspec": {
   "display_name": "Python 3 (ipykernel)",
   "language": "python",
   "name": "python3"
  },
  "language_info": {
   "codemirror_mode": {
    "name": "ipython",
    "version": 3
   },
   "file_extension": ".py",
   "mimetype": "text/x-python",
   "name": "python",
   "nbconvert_exporter": "python",
   "pygments_lexer": "ipython3",
   "version": "3.12.4"
  }
 },
 "nbformat": 4,
 "nbformat_minor": 4
}
