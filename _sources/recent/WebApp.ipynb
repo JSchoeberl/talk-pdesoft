{
 "cells": [
  {
   "cell_type": "markdown",
   "id": "4ce0489a-7930-4223-b732-bd8a8fe2a3eb",
   "metadata": {},
   "source": [
    "# CERBSim WebApp\n",
    "\n",
    "The NGSolve language is very flexible - but maybe too complex for practical engineers.\n",
    " \n",
    "The TU-Wien startup CERBSim is building apps on top of NGSolve, for specific applications. \n",
    "\n",
    "<img src=\"cerbsim-team.png\" width=\"200\" align=\"center\">\n",
    "\n",
    "The interface is web-based, and computations run on cloud-CPUs."
   ]
  },
  {
   "cell_type": "markdown",
   "id": "a90a33d0-0ed4-4f63-b320-a90e942d5179",
   "metadata": {},
   "source": [
    "<img src=\"webapp.png\" width=\"800\" align=\"center\">"
   ]
  },
  {
   "cell_type": "markdown",
   "id": "23d88745-a0f2-4be9-86e3-d15294d0a3d8",
   "metadata": {},
   "source": [
    "The development engineer is kept away from mathematical formulations, and can insert parameters and upload data for specific application."
   ]
  },
  {
   "cell_type": "markdown",
   "id": "ff95a0c5-0bd3-4ae3-8bea-31db3f58d9df",
   "metadata": {},
   "source": [
    "<img src=\"bearing_data.png\" width=\"500\" align=\"center\">"
   ]
  },
  {
   "cell_type": "markdown",
   "id": "377a80e2-615f-443e-9d8b-f15b532c25c8",
   "metadata": {},
   "source": [
    "results are presented in spread-sheets and webgui scenes:\n",
    "\n",
    "<img src=\"bearing_result.png\" width=\"500\" align=\"center\">"
   ]
  },
  {
   "cell_type": "code",
   "execution_count": null,
   "id": "82cc05a8-405f-4e78-a485-30bab6621997",
   "metadata": {},
   "outputs": [],
   "source": []
  }
 ],
 "metadata": {
  "kernelspec": {
   "display_name": "Python 3 (ipykernel)",
   "language": "python",
   "name": "python3"
  },
  "language_info": {
   "codemirror_mode": {
    "name": "ipython",
    "version": 3
   },
   "file_extension": ".py",
   "mimetype": "text/x-python",
   "name": "python",
   "nbconvert_exporter": "python",
   "pygments_lexer": "ipython3",
   "version": "3.12.4"
  }
 },
 "nbformat": 4,
 "nbformat_minor": 5
}
