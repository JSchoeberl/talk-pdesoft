{
 "cells": [
  {
   "cell_type": "markdown",
   "id": "7eabeb8f-71ba-4e19-aef0-bc49bc33928c",
   "metadata": {},
   "source": [
    "# Simulation of Power Transformers"
   ]
  },
  {
   "cell_type": "markdown",
   "id": "3a9bdba2-53ad-4276-b153-c031af23a31b",
   "metadata": {},
   "source": [
    "Project with Siemens Austria Transformers, Linz: \n",
    "\n",
    "Three phase transformer\n",
    "\n",
    "<img src=\"trafo2geometry2.png\" alt=\"tesla\" width=\"500\" align=\"center\"/>\n",
    "\n",
    "\n",
    "* prescribed current sources in coils\n",
    "* main flux through layered core (homogenization)\n",
    "* flux penetrating casing causes eddy currents\n",
    "* thin shields collecting stray fluxes \n",
    "\n",
    "Model:\n",
    "* Time harmonic, low frequency\n",
    "* Nonlinear terms due to saturation in casing"
   ]
  },
  {
   "cell_type": "markdown",
   "id": "9f7ae67e-f027-425d-a250-9e4465b69661",
   "metadata": {},
   "source": [
    "**Magnetic flux density:**\n",
    "\n",
    "<img src=\"TA13037alt_flux.png\" alt=\"tesla\" width=\"500\" align=\"center\"/>\n",
    "\n",
    "Anisotropic elements for thin shields:\n",
    "\n",
    "<img src=\"trafomeshcoarseshields.png\" alt=\"tesla\" width=\"500\" align=\"center\"/>\n",
    "\n",
    "* Total object size: 6m, Thickness of shields: 2cm\n",
    "* Prism elements in and behind shields, pyramid transition elements\n",
    "\n",
    "\n",
    "**Loss density in pressing plates:**\n",
    "\n",
    "<img src=\"TA13037alt_losses_clumps.png\" alt=\"tesla\" width=\"500\" align=\"center\"/>\n",
    "\n",
    "**Eddy current density:**\n",
    "\n",
    "<img src=\"TA13037alt_currents.png\" alt=\"tesla\" width=\"500\" align=\"center\"/>\n"
   ]
  },
  {
   "cell_type": "code",
   "execution_count": null,
   "id": "6bca425f-fd1a-4215-8f31-7b3e9c4077b8",
   "metadata": {},
   "outputs": [],
   "source": []
  }
 ],
 "metadata": {
  "kernelspec": {
   "display_name": "Python 3 (ipykernel)",
   "language": "python",
   "name": "python3"
  },
  "language_info": {
   "codemirror_mode": {
    "name": "ipython",
    "version": 3
   },
   "file_extension": ".py",
   "mimetype": "text/x-python",
   "name": "python",
   "nbconvert_exporter": "python",
   "pygments_lexer": "ipython3",
   "version": "3.12.4"
  }
 },
 "nbformat": 4,
 "nbformat_minor": 5
}
