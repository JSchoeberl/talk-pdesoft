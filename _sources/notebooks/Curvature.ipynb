{
 "cells": [
  {
   "cell_type": "markdown",
   "id": "30f4ec89",
   "metadata": {},
   "source": [
    "# Computation of Curvature\n",
    "\n",
    "work with **Michael Neunteufel**, Max Wardetzky and Jay Gopalakrishnan\n",
    "\n",
    "* Given metric tensor $g \\in H(cc)$, compute Riemannian curvature $R(g)$\n",
    "* Compute curvature of a triangulated manifold"
   ]
  },
  {
   "cell_type": "code",
   "execution_count": null,
   "id": "8e12871f",
   "metadata": {},
   "outputs": [],
   "source": [
    "from netgen.occ import *\n",
    "from netgen import meshing\n",
    "from ngsolve import *\n",
    "from ngsolve.webgui import Draw\n",
    "\n",
    "MESHSURF = meshing.MeshingStep.MESHSURFACE"
   ]
  },
  {
   "cell_type": "markdown",
   "id": "cc6e5fe1",
   "metadata": {},
   "source": [
    "## Curvature on smooth manifolds"
   ]
  },
  {
   "cell_type": "code",
   "execution_count": null,
   "id": "dc4032a7",
   "metadata": {},
   "outputs": [],
   "source": [
    "sp = Sphere(Pnt(0,0,0), r=1)\n",
    "spmesh = Mesh(OCCGeometry(sp).GenerateMesh(maxh=0.2,perfstepsend=MESHSURF))\n",
    "spmesh.Curve(3);"
   ]
  },
  {
   "cell_type": "markdown",
   "id": "feb73894",
   "metadata": {},
   "source": [
    "Define Gauss curvature from Weingarten tensor:"
   ]
  },
  {
   "cell_type": "code",
   "execution_count": null,
   "id": "1b1da7bb",
   "metadata": {},
   "outputs": [],
   "source": [
    "nsurf = specialcf.normal(3)\n",
    "GaussCurv = Cof(Grad(nsurf))*nsurf*nsurf"
   ]
  },
  {
   "cell_type": "code",
   "execution_count": null,
   "id": "d3d060b0",
   "metadata": {},
   "outputs": [],
   "source": [
    "Draw (GaussCurv, spmesh, min=0.9, max=1.1);"
   ]
  },
  {
   "cell_type": "markdown",
   "id": "1c913f7d",
   "metadata": {},
   "source": [
    "By Gauss-Bonnet theorem: $\\int_S \\kappa = 4 \\pi$ "
   ]
  },
  {
   "cell_type": "code",
   "execution_count": null,
   "id": "c10b7650",
   "metadata": {},
   "outputs": [],
   "source": [
    "print (\"integrated curvature:\",\n",
    "       Integrate (GaussCurv, spmesh.Boundaries(\".*\")) / (4*pi))"
   ]
  },
  {
   "cell_type": "markdown",
   "id": "578d6a13",
   "metadata": {},
   "source": [
    "### A cylinder has only flat faces:"
   ]
  },
  {
   "cell_type": "code",
   "execution_count": null,
   "id": "37fe18ca",
   "metadata": {},
   "outputs": [],
   "source": [
    "cyl = Cylinder( (0,0,0), Z, r=1, h = 2)\n",
    "cylmesh = Mesh(OCCGeometry(cyl).GenerateMesh(maxh=0.2,perfstepsend=MESHSURF)).Curve(5)\n",
    "Draw (GaussCurv, cylmesh);"
   ]
  },
  {
   "cell_type": "code",
   "execution_count": null,
   "id": "51418077",
   "metadata": {},
   "outputs": [],
   "source": [
    "cyl = Cylinder( (0,0,0), Z, r=1, h = 2)\n",
    "cylf = cyl.MakeFillet(cyl.edges, 0.1)\n",
    "cylfmesh = Mesh(OCCGeometry(cylf).GenerateMesh(maxh=0.2,perfstepsend=MESHSURF)).Curve(7)\n",
    "Draw (GaussCurv, cylfmesh);"
   ]
  },
  {
   "cell_type": "code",
   "execution_count": null,
   "id": "72e21a7e",
   "metadata": {},
   "outputs": [],
   "source": [
    "Integrate (GaussCurv, cylfmesh.Boundaries(\".*\"), order=10) / (4*pi)"
   ]
  },
  {
   "cell_type": "markdown",
   "id": "a059b7c9",
   "metadata": {},
   "source": [
    "### Edge term: jump of geodesic curvature"
   ]
  },
  {
   "cell_type": "markdown",
   "id": "635ba96a",
   "metadata": {},
   "source": [
    "$$\n",
    "\\kappa_g = \\nu \\cdot \\nabla_t t\n",
    "$$\n",
    "with co-normal vector $\\nu = n_F \\times t_E$"
   ]
  },
  {
   "cell_type": "code",
   "execution_count": null,
   "id": "0bf5918b",
   "metadata": {},
   "outputs": [],
   "source": [
    "nu = Cross(specialcf.normal(3), specialcf.tangential(3)) \n",
    "edgecurve = specialcf.EdgeCurvature(3)  # nabla_t t\n",
    "GeodesicCurv = nu*edgecurve"
   ]
  },
  {
   "cell_type": "code",
   "execution_count": null,
   "id": "7a20a042",
   "metadata": {},
   "outputs": [],
   "source": [
    "fes = SurfaceL2(cylmesh, order=5)\n",
    "u,v = fes.TnT()\n",
    "f = LinearForm(fes)\n",
    "f += GaussCurv*v*ds(bonus_intorder=8)\n",
    "f += -GeodesicCurv*v*ds(element_boundary=True, bonus_intorder=8)\n",
    "f.Assemble()\n",
    "gfu = GridFunction(fes)\n",
    "mass = BilinearForm(u*v*ds).Assemble().mat\n",
    "gfu.vec.data = mass.Inverse()*f.vec\n",
    "print (\"integrated curv =\", Integrate(gfu, cylmesh.Boundaries(\".*\"))/(4*pi))\n",
    "Draw(gfu);"
   ]
  },
  {
   "cell_type": "markdown",
   "id": "430c297c",
   "metadata": {},
   "source": [
    "### Vertex term: angle deficit"
   ]
  },
  {
   "cell_type": "code",
   "execution_count": null,
   "id": "6bec1f96",
   "metadata": {},
   "outputs": [],
   "source": [
    "cube = Box( (0,0,0), (1,1,1) )\n",
    "cubef = cube.MakeFillet(cube.edges, 0.1)\n",
    "cubefmesh = Mesh(OCCGeometry(cubef).GenerateMesh(maxh=0.2,perfstepsend=meshing.MeshingStep.MESHSURFACE)).Curve(7)\n",
    "print (\"integrated curv =\", Integrate(GaussCurv, cubefmesh.Boundaries(\".*\")) / (4*pi))\n",
    "Draw (GaussCurv, cubefmesh);"
   ]
  },
  {
   "cell_type": "code",
   "execution_count": null,
   "id": "a7101236",
   "metadata": {},
   "outputs": [],
   "source": [
    "cube = Box( (0,0,0), (1,1,1) )\n",
    "cubemesh = Mesh(OCCGeometry(cube).GenerateMesh(maxh=0.2,perfstepsend=meshing.MeshingStep.MESHSURFACE)).Curve(7)\n",
    "\n",
    "fes = H1(cubemesh, order=5)\n",
    "u,v = fes.TnT()\n",
    "\n",
    "f = LinearForm(fes)\n",
    "bbndtang  = specialcf.VertexTangentialVectors(3)\n",
    "bbndtang1 = bbndtang[:,0] \n",
    "bbndtang2 = bbndtang[:,1] \n",
    "f += -v*acos(bbndtang1*bbndtang2)*ds(element_vb=BBND)\n",
    "\n",
    "f.Assemble()\n",
    "for i in range(f.space.mesh.nv):\n",
    "    f.vec[i] += 2*pi\n",
    "\n",
    "gfu = GridFunction(fes)\n",
    "mass = BilinearForm(u*v*ds).Assemble().mat\n",
    "gfu.vec.data = mass.Inverse()*f.vec\n",
    "print (\"integrated curv =\", Integrate(gfu, cubemesh.Boundaries(\".*\"))/(4*pi))\n",
    "Draw(gfu);"
   ]
  },
  {
   "cell_type": "markdown",
   "id": "3dd185bd",
   "metadata": {},
   "source": [
    "### All contributions together"
   ]
  },
  {
   "cell_type": "code",
   "execution_count": null,
   "id": "120977c1",
   "metadata": {},
   "outputs": [],
   "source": [
    "sp = Sphere(Pnt(0,0,0), 1)\n",
    "spmesh = Mesh(OCCGeometry(sp).GenerateMesh(maxh=0.3,perfstepsend=MESHSURF))\n",
    "spmesh.Curve(2)\n",
    "Draw (spmesh);"
   ]
  },
  {
   "cell_type": "code",
   "execution_count": null,
   "id": "a94e75c2",
   "metadata": {
    "scrolled": true
   },
   "outputs": [],
   "source": [
    "fes = H1(spmesh, order=2)\n",
    "u,v = fes.TnT()\n",
    "f = LinearForm(fes)\n",
    "f += GaussCurv*v*ds(bonus_intorder=12)\n",
    "f += -GeodesicCurv*v*ds(element_boundary=True, bonus_intorder=12)\n",
    "f += -v*acos(bbndtang1*bbndtang2)*ds(element_vb=BBND)\n",
    "\n",
    "f.Assemble()\n",
    "for i in range(f.space.mesh.nv):\n",
    "    f.vec[i] += 2*pi\n",
    "\n",
    "gfu = GridFunction(fes)\n",
    "mass = BilinearForm(u*v*ds(bonus_intorder=6)).Assemble().mat\n",
    "gfu.vec.data = mass.Inverse()*f.vec\n",
    "print (\"integrated curv =\", Integrate(gfu, spmesh.Boundaries(\".*\"), order=15)/(4*pi))\n",
    "Draw(gfu);"
   ]
  },
  {
   "cell_type": "markdown",
   "id": "2ace1fa2",
   "metadata": {},
   "source": [
    "## Curvatur computation from metric tensor on parameter domain\n",
    "\n",
    "* Evan S. Gawlik: High-order approximation of Gaussian Curvature with Regge finite elements, SINUM '20\n",
    "* J. Gopalakrishnan, M. Neunteufel, JS, M. Wardetzky: Analysis of curvature approximation via covariant curl and incompatibility for Regge metrics (WIP)"
   ]
  },
  {
   "cell_type": "code",
   "execution_count": null,
   "id": "ebdb4b33",
   "metadata": {},
   "outputs": [],
   "source": [
    "from ngsolve import *\n",
    "from ngsolve.webgui import Draw\n",
    "from netgen.geom2d import CSG2d, Circle\n",
    "from math import pi\n",
    "\n",
    "order    = 4\n",
    "addorder = 2\n",
    "\n",
    "geo = CSG2d()\n",
    "circle = Circle(center=(0,0), radius=1.0)\n",
    "geo.Add(circle)\n",
    "\n",
    "mesh = Mesh(geo.GenerateMesh(maxh=0.1))\n",
    "mesh.Curve(10)\n",
    "Draw(mesh);"
   ]
  },
  {
   "cell_type": "code",
   "execution_count": null,
   "id": "7fe1a3cc",
   "metadata": {},
   "outputs": [],
   "source": [
    "gfset = GridFunction(H1(mesh,order=order)**3)\n",
    "\n",
    "r = sqrt(x**2+y**2)\n",
    "phi = atan2(y,x)\n",
    "\n",
    "gfset.Interpolate( (cos(phi)*sin(r*pi/2)-x,sin(phi)*sin(r*pi/2)-y,cos(r*pi/2)))\n",
    "\n",
    "gfsetxy = GridFunction(H1(mesh,order=order)**2)\n",
    "gfsetxy.Set ( gfset[0:2] )\n",
    "mesh.SetDeformation(gfsetxy)\n",
    "Draw (gfset[2], mesh, deformation=True)\n",
    "mesh.UnsetDeformation()"
   ]
  },
  {
   "cell_type": "markdown",
   "id": "90157867",
   "metadata": {},
   "source": [
    "Interpolating metric\n",
    "$$\n",
    "C = \\nabla \\varphi^T \\nabla \\varphi\n",
    "$$\n",
    "into a Regge finite element space:"
   ]
  },
  {
   "cell_type": "code",
   "execution_count": null,
   "id": "fe0dfffe",
   "metadata": {},
   "outputs": [],
   "source": [
    "F = CF( (1,0, 0,1, 0,0),dims=(3,2)) + Grad(gfset)\n",
    "C = F.trans*F\n",
    "\n",
    "fesCC = HCurlCurl(mesh, order=3) \n",
    "gfC = GridFunction(fesCC)\n",
    "gfC.Set(C, dual=True, bonus_intorder=4)   # half-sphere\n",
    "# gfC.Set(Id(2), dual=True)    # disk\n",
    "\n",
    "Draw (gfC[0,0], mesh);"
   ]
  },
  {
   "cell_type": "code",
   "execution_count": null,
   "id": "03974805",
   "metadata": {},
   "outputs": [],
   "source": [
    "fesR = H1(mesh, order=3)\n",
    "fR = LinearForm(fesR)\n",
    "u,v = fesR.TnT()\n",
    "\n",
    "charVertex = GridFunction(H1(mesh,order=1))\n",
    "charVertex.Set(1)\n",
    "for el in charVertex.space.Elements(BND):\n",
    "    for d in el.dofs:\n",
    "        charVertex.vec[d] = 1     # set to 0 to skip bnd vert\n",
    "\n",
    "charEdge = GridFunction(FacetFESpace(mesh,order=0))  \n",
    "charEdge.vec[:] = 1\n",
    "for el in charEdge.space.Elements(BND):\n",
    "    for d in el.dofs:\n",
    "        charEdge.vec[d] = 1     # set to 0 to skip bnd edge\n",
    "       \n",
    "# vertex - contributions = angle deficit\n",
    "vertextang  = specialcf.VertexTangentialVectors(2)\n",
    "vt1 = vertextang[:,0]\n",
    "vt2 = vertextang[:,1]\n",
    "\n",
    "fR += charVertex*v*acos(gfC[vt1,vt2]/sqrt(gfC[vt1,vt1]*gfC[vt2,vt2]))*dx(element_vb=BBND)\n",
    "fR += -charVertex*v*acos((vt1*vt2)/sqrt((vt1*vt1)*(vt2*vt2)))*dx(element_vb=BBND)\n",
    "\n",
    "t  = specialcf.tangential(2,True)\n",
    "n = specialcf.normal(2)  \n",
    "edgecurve = specialcf.EdgeCurvature(2)\n",
    "Gamma_ttn = gfC.Operator(\"christoffel2\")[t,t,:]\n",
    "fR += charEdge*v*sqrt(Det(gfC))/gfC[t,t]*n*(Gamma_ttn+edgecurve)*dx(element_vb=BND, bonus_intorder=4)\n",
    "\n",
    "\n",
    "Riemann = gfC.Operator(\"Riemann\")\n",
    "fR += 1/sqrt(Det(gfC))*Riemann[0,1,0,1] * v * dx(bonus_intorder=4)\n",
    "\n",
    "fR.Assemble()\n",
    "\n",
    "gfR = GridFunction(fesR)\n",
    "mass = BilinearForm(sqrt(Det(gfC))*u*v*dx(bonus_intorder=4)).Assemble().mat\n",
    "gfR.vec.data = mass.Inverse() * fR.vec\n",
    "Draw (gfR, min=0.99, max=1.01);"
   ]
  },
  {
   "cell_type": "code",
   "execution_count": null,
   "id": "e187c89a",
   "metadata": {},
   "outputs": [],
   "source": [
    "print (\"total curvature on half-sphere:\", Integrate (gfR, mesh) / pi)"
   ]
  },
  {
   "cell_type": "markdown",
   "id": "6623e77b",
   "metadata": {},
   "source": [
    "## Current work: numerics for Einstein equation\n",
    "* solve for an evolving metric in 3+1\n",
    "* can do now linearized Einstein wave equation"
   ]
  },
  {
   "cell_type": "code",
   "execution_count": null,
   "id": "54799f5e",
   "metadata": {},
   "outputs": [],
   "source": []
  },
  {
   "cell_type": "code",
   "execution_count": null,
   "id": "b16ff3e4-d5e3-4f12-984d-c96772cb42e5",
   "metadata": {},
   "outputs": [],
   "source": []
  }
 ],
 "metadata": {
  "kernelspec": {
   "display_name": "Python 3 (ipykernel)",
   "language": "python",
   "name": "python3"
  },
  "language_info": {
   "codemirror_mode": {
    "name": "ipython",
    "version": 3
   },
   "file_extension": ".py",
   "mimetype": "text/x-python",
   "name": "python",
   "nbconvert_exporter": "python",
   "pygments_lexer": "ipython3",
   "version": "3.12.3"
  }
 },
 "nbformat": 4,
 "nbformat_minor": 5
}
