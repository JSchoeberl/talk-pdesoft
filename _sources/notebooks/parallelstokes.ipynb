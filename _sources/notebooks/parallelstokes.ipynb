{
 "cells": [
  {
   "cell_type": "markdown",
   "id": "eb5944e3",
   "metadata": {},
   "source": [
    "# Solving Stokes, in parallel"
   ]
  },
  {
   "cell_type": "markdown",
   "id": "f9cce0f7",
   "metadata": {},
   "source": [
    "Starting an MPI-cluster on the local machine:"
   ]
  },
  {
   "cell_type": "code",
   "execution_count": 1,
   "id": "7ca07260",
   "metadata": {
    "scrolled": true
   },
   "outputs": [
    {
     "name": "stdout",
     "output_type": "stream",
     "text": [
      "Starting 4 engines with <class 'ipyparallel.cluster.launcher.MPIEngineSetLauncher'>\n"
     ]
    },
    {
     "data": {
      "application/vnd.jupyter.widget-view+json": {
       "model_id": "334c98993b5849338d2ddeb9400ea7f7",
       "version_major": 2,
       "version_minor": 0
      },
      "text/plain": [
       "  0%|          | 0/4 [00:00<?, ?engine/s]"
      ]
     },
     "metadata": {},
     "output_type": "display_data"
    }
   ],
   "source": [
    "from ipyparallel import Cluster\n",
    "c = await Cluster(engines=\"mpi\").start_and_connect(n=4, activate=True)"
   ]
  },
  {
   "cell_type": "markdown",
   "id": "6102dcce",
   "metadata": {},
   "source": [
    "Generate and distribute mesh, refine in parallel:"
   ]
  },
  {
   "cell_type": "code",
   "execution_count": 2,
   "id": "cacb777f",
   "metadata": {},
   "outputs": [
    {
     "data": {
      "text/plain": [
       "[stdout:3] 35848\n"
      ]
     },
     "metadata": {},
     "output_type": "display_data"
    },
    {
     "data": {
      "text/plain": [
       "[stdout:2] 37472\n"
      ]
     },
     "metadata": {},
     "output_type": "display_data"
    },
    {
     "data": {
      "text/plain": [
       "[stdout:1] 36024\n"
      ]
     },
     "metadata": {},
     "output_type": "display_data"
    },
    {
     "data": {
      "text/plain": [
       "[stdout:0] 0\n"
      ]
     },
     "metadata": {},
     "output_type": "display_data"
    }
   ],
   "source": [
    "%%px\n",
    "from ngsolve import *\n",
    "from netgen.occ import *\n",
    "from ngsolve.krylovspace import BramblePasciakCG\n",
    "from mpi4py.MPI import COMM_WORLD as comm\n",
    "\n",
    "box = Box((0,0,0), (2,0.41,0.41))\n",
    "box.faces.name=\"wall\"\n",
    "box.faces.Min(X).name=\"inlet\"\n",
    "box.faces.Max(X).name=\"outlet\"\n",
    "cyl = Cylinder((0.2,0,0.2), Y, h=0.41,r=0.05)\n",
    "cyl.faces.name=\"cyl\"\n",
    "shape = box-cyl\n",
    "ngmesh = OCCGeometry(shape).GenerateMesh(maxh=0.05, comm=comm)\n",
    "    \n",
    "for r in range(1): ngmesh.Refine()\n",
    "mesh = Mesh(ngmesh)\n",
    "print (mesh.GetNE(VOL))"
   ]
  },
  {
   "cell_type": "markdown",
   "id": "ff91c582",
   "metadata": {},
   "source": [
    "Using parallel preconditioners from PETSc:\n",
    "\n",
    "(thanks a lot for support from S. Zampini and U. Zerbinat)"
   ]
  },
  {
   "cell_type": "code",
   "execution_count": 3,
   "id": "7054b20b",
   "metadata": {},
   "outputs": [],
   "source": [
    "%%px\n",
    "import ngsolve.ngs2petsc as n2p\n",
    "import petsc4py.PETSc as psc"
   ]
  },
  {
   "cell_type": "markdown",
   "id": "6ca83033",
   "metadata": {},
   "source": [
    "A stabilized $p=1$ method for Stokes:\n",
    "\n",
    "$$\n",
    "K = \\left( \\begin{array}{cc}\n",
    "  A & B^T \\\\\n",
    "  B & -C\n",
    "   \\end{array} \\right)\n",
    "\\qquad\n",
    "A = \\left( \\begin{array}{ccc}\n",
    "  A_1 & \\cdot & \\cdot \\\\\n",
    "  \\cdot & A_1 & \\cdot  \\\\\n",
    "  \\cdot & \\cdot & A_1  \\\\\n",
    "   \\end{array} \\right)\n",
    "$$\n",
    "\n"
   ]
  },
  {
   "cell_type": "code",
   "execution_count": 4,
   "id": "3a9c6db8",
   "metadata": {},
   "outputs": [
    {
     "data": {
      "text/plain": [
       "[stdout:0] ndof =  66711 + 22237 = 88948\n"
      ]
     },
     "metadata": {},
     "output_type": "display_data"
    }
   ],
   "source": [
    "%%px\n",
    "V = VectorH1(mesh, order=1, dirichlet=\"wall|inlet|cyl\")\n",
    "V1 = H1(mesh, order=1, dirichlet=\"wall|inlet|cyl\")\n",
    "Q = H1(mesh, order=1)\n",
    "printonce (\"ndof = \", V.ndofglobal,'+',Q.ndofglobal,'=',\n",
    "        V.ndofglobal+Q.ndofglobal)\n",
    "\n",
    "u,v = V.TnT()\n",
    "u1,v1 = V1.TnT()\n",
    "p,q = Q.TnT()\n",
    "\n",
    "h = specialcf.mesh_size\n",
    "\n",
    "bfa1 = BilinearForm(InnerProduct(grad(u1),grad(v1))*dx)\n",
    "bfb = BilinearForm(div(u)*q*dx).Assemble()\n",
    "bfc = BilinearForm(h*h*grad(p)*grad(q)*dx).Assemble()\n",
    "\n",
    "prea1 = Preconditioner(bfa1, \"gamg\") # AMG precond from PETSc\n",
    "bfa1.Assemble()\n",
    "\n",
    "# make block-diagonal A matrix:\n",
    "mata = sum( [Ri.T@bfa1.mat@Ri for Ri in V.restrictions] )\n",
    "prea = sum( [Ei@prea1@Ei.T for Ei in V.embeddings])    \n",
    "    \n",
    "bfschur = BilinearForm(p*q*dx, diagonal=True).Assemble()\n",
    "preschur = bfschur.mat.Inverse()"
   ]
  },
  {
   "cell_type": "code",
   "execution_count": null,
   "id": "6b23037d",
   "metadata": {},
   "outputs": [],
   "source": [
    "%%px\n",
    "gfu = GridFunction(V)\n",
    "gfp = GridFunction(Q)\n",
    "\n",
    "uin = (1.5*4*y*(0.41-y)/(0.41*0.41)*z*(0.41-z)/0.41**2,0, 0)\n",
    "\n",
    "gfu.Set(uin, definedon=mesh.Boundaries(\"inlet\"))\n",
    "\n",
    "resf = (-mata * gfu.vec).Evaluate()\n",
    "resg = (-bfb.mat * gfu.vec).Evaluate()\n",
    "\n",
    "sol = BramblePasciakCG (A=mata, B=bfb.mat, C=bfc.mat, f=resf, g=resg, \\\n",
    "                preA=prea, preS=preschur, maxit=500, \n",
    "                printrates='\\r' if comm.rank==0 else False)\n",
    "\n",
    "gfu.vec.data += sol[0]\n",
    "gfp.vec.data += sol[1]"
   ]
  },
  {
   "cell_type": "code",
   "execution_count": null,
   "id": "c77eb4a5",
   "metadata": {},
   "outputs": [],
   "source": [
    "gfu = c[:][\"gfu\"]"
   ]
  },
  {
   "cell_type": "code",
   "execution_count": null,
   "id": "432c52ad",
   "metadata": {},
   "outputs": [],
   "source": [
    "from ngsolve import *\n",
    "from ngsolve.webgui import Draw\n",
    "ea = { \"euler_angles\" : (-77, 6, 47) }\n",
    "clipping = { \"clipping\" : {\"y\":1, \"z\":0, \"function\" : True } }\n",
    "Draw (Norm(gfu[0]), gfu[0].space.mesh, **ea, **clipping, order=1)\n",
    "Draw (Norm(gfu[2]), gfu[2].space.mesh, **ea, **clipping, order=1);"
   ]
  },
  {
   "cell_type": "code",
   "execution_count": null,
   "id": "46ff68e8",
   "metadata": {},
   "outputs": [],
   "source": [
    "gfp = c[:][\"gfp\"]\n",
    "Draw (gfp[0], order=1, **ea, **clipping);"
   ]
  },
  {
   "cell_type": "code",
   "execution_count": null,
   "id": "9419fe73",
   "metadata": {},
   "outputs": [],
   "source": [
    "c.shutdown(hub=True)"
   ]
  },
  {
   "cell_type": "code",
   "execution_count": null,
   "id": "e7d471c6-c880-4b34-9b93-7e63b5673a63",
   "metadata": {},
   "outputs": [],
   "source": []
  }
 ],
 "metadata": {
  "kernelspec": {
   "display_name": "Python 3 (ipykernel)",
   "language": "python",
   "name": "python3"
  },
  "language_info": {
   "codemirror_mode": {
    "name": "ipython",
    "version": 3
   },
   "file_extension": ".py",
   "mimetype": "text/x-python",
   "name": "python",
   "nbconvert_exporter": "python",
   "pygments_lexer": "ipython3",
   "version": "3.12.3"
  }
 },
 "nbformat": 4,
 "nbformat_minor": 5
}
