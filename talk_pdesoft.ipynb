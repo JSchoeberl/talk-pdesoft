{
 "cells": [
  {
   "cell_type": "markdown",
   "id": "69bc83f8",
   "metadata": {},
   "source": [
    "# An overview to Netgen/NGSolve \n",
    "\n",
    "**Joachim Schöberl** <br>\n",
    "TU Wien\n",
    "\n",
    "<img src=\"TU_Wien.png\" width=\"100\">\n",
    "\n",
    "with contributions by \n",
    "**Jay Gopalakrishnan**, Portland State University<br>\n",
    "**Christoph Lehrenfeld**, Georg-August-Universität Göttingen <br>\n",
    "**Philip Lederer**, Twente University<br> \n",
    "**Michael Neunteufel**, TU Wien<br> \n",
    "**Sabine Zaglmayr**, Dassault Systems <br> \n",
    "**Astrid Pechstein**, Johannes Kepler University Linz<br>\n",
    "**Lukas Kogler**, Siemens Industry Software GmbH <br>\n",
    "**Matthias Hochsteger**, **Christopher Lackner**, CERBSim GmbH\n",
    "\n",
    "****p$\\partial$esoft 2024, Cambridge, July 2024****\n",
    "\n",
    "This presentation uses the open-source finite element library NGSolve (www.ngsolve.org) within Jupyter Notebooks. \n",
    "\n",
    "<img src=\"pictures/NGSlogo.png\" width=\"200\" align=\"center\">"
   ]
  },
  {
   "cell_type": "markdown",
   "id": "cacacf4b-fb71-4b21-96dd-16899ee43797",
   "metadata": {},
   "source": [
    "The talk is available online from \n",
    "[https://jschoeberl.github.io/talk-pdesoft](https://jschoeberl.github.io/talk-pdesoft)\n",
    "\n",
    "<img src=\"pictures/talk-pdesoft-QR.png\" width=\"200\" align=\"center\">"
   ]
  },
  {
   "cell_type": "markdown",
   "id": "f50399f5",
   "metadata": {},
   "source": [
    "## Some first examples:\n",
    "\n",
    "* [Elasticity](wta/elasticity3D.ipynb)\n",
    "* [Maxwell](wta/coil.ipynb)\n",
    "* [Nonlinear Elasticity](wta/elasticity.ipynb)\n",
    "* Shells: [Cylinder](wta/shell.ipynb) [Sydney](wta/Sydney.ipynb)\n",
    "* [Navier Stokes](wta/tesla.ipynb)"
   ]
  },
  {
   "cell_type": "markdown",
   "id": "3a2dfb5e",
   "metadata": {},
   "source": [
    "If you like to try out this talk on your computer:\n",
    "\n",
    "    python3 -m pip install numpy scipy matplotlib ipywidgets jupyter notebook \n",
    "    python3 -m pip install --upgrade ngsolve webgui_jupyter_widgets\n",
    "\n",
    "\n",
    "Download notebooks from the jupyter-book, and run them like\n",
    "\n",
    "    jupyter-notebook elasticity3D.ipynb\n",
    "\n",
    "If local installation fails, you may use our jupyterhub:\n",
    "\n",
    "**jupyterhub.cerbsim.com**\n",
    "\n",
    "user:  **ngshub_xx**<br>\n",
    "pwd: **solve!xx**\n",
    "\n",
    "xx = choose a number: 01 to 31\n",
    "\n",
    "(pick the day of month of your birthday)\n",
    "\n",
    "You find the notebooks in the shared/talk-LLNL folder. \n",
    "\n",
    "Some more online material:\n",
    "\n",
    "* [NGSolve tutorials](https://docu.ngsolve.org/latest/i-tutorials/index.html)\n",
    "* [NGSolve-based finite element class](https://jschoeberl.github.io/iFEM/intro.html)\n",
    "* [NGSolve24 tutorials](https://docu.ngsolve.org/ngs24/intro.html)\n",
    "    \n"
   ]
  },
  {
   "cell_type": "markdown",
   "id": "2f6bd296",
   "metadata": {},
   "source": [
    "## Software design:\n",
    "\n",
    "* NGSolve is written in modern C++, now on C++17\n",
    "* Classes are ported to Python using pybind11\n",
    "* MPI-based distributed memory parallelization\n",
    "* C++ thread based shared memory parallelization (TaskManager)\n",
    "* Python expression trees passed to C++, optional Code generation at run-time\n",
    " \n",
    " \n",
    "\n",
    "Function spaces:\n",
    "---\n",
    "* Provide finite elements, connectivity, and certain well-defined operators\n",
    "* Many high and variable order spaces\n",
    "* Scalar, vectorial, and matrix-valued\n",
    "* Spaces on surfaces, and on interelement-facets"
   ]
  },
  {
   "cell_type": "markdown",
   "id": "6966b5a7",
   "metadata": {},
   "source": [
    "## Model templates:\n",
    "* [Navier Stokes](modeltemplates/NavierStokesMT.ipynb)\n",
    "* [Natural Convection](modeltemplates/natconv.ipynb)\n",
    "* [Domain morphing](notebooks/morphing.ipynb)\n",
    "* [Parallel Solvers](notebooks/parallelstokes.ipynb)"
   ]
  },
  {
   "cell_type": "markdown",
   "id": "1718edc7",
   "metadata": {},
   "source": [
    "## History:\n",
    "\n",
    "* Origin 1998 - 2002 within SFB on Numerical+Symbolic Sci. Comp, JKU Linz (U. Langer, G. Haase, M. Kuhn)\n",
    "* Redesign in 2000 at Texas A&M <br>\n",
    "T. Kolev and V. Dobrev have been around, find similar classes in MFEM\n",
    "* Starting grant on high order methods 2002-2008 in Linz, Austria <br>\n",
    "In particular high order methods for Maxwell equations (S. Zaglmayr) and Elasticity (A. Pechstein)\n",
    "* Fluid dynamics during time at RWTH Aachen 2006-2010, HDG methods (C. Lehrenfeld, H. Egger)\n",
    "* Python frontend (started in 2015, M. Hochsteger) inspired by FEniCS \n",
    "* TU Wien / Uni Wien joint FWF-funded research project SFB 65 on Nonlinear PDEs\n",
    "* TU Wien spin-off CERBSim started 2019: support and applications (C. Lackner, M. Hochsteger)"
   ]
  },
  {
   "cell_type": "markdown",
   "id": "5684e15d",
   "metadata": {},
   "source": [
    "## Recent developemnt:\n",
    "\n",
    "* [DG for waves on GPUs](notebooks/wave_cuda.ipynb)\n",
    "* [Calculation of Curvature](notebooks/Curvature.ipynb)\n",
    "* [Programming my own FiniteElement](mycpp/myhighorder.ipynb)\n",
    "* [NGSolve-WebApp](WebApp.ipynb)"
   ]
  },
  {
   "cell_type": "markdown",
   "id": "d0fa8210",
   "metadata": {},
   "source": [
    "## Packages on top of NGSolve\n",
    "\n",
    " * [ngs-xfem](https://github.com/ngsxfem) Cut-FEM package by C. Lehrenfeld   \n",
    " * [tent-pitching](https://github.com/jayggg/ngstents) space-time solvers for hyperbolic equations with C. Wintersteiger, J. Gopalakrishnan\n",
    " * [shape optimization](https://docu.ngsolve.org/latest/i-tutorials/index.html#shape-and-topology-optimization) by P. Gangl, K. Sturm\n",
    " * model order reduction [pyMOR](https://pymor.org) by R. Milk, S. Rave, F. Schindler\n",
    " * boundary elements with NGSolve [ngbem](https://github.com/Weggler/ngbem) with L. Weggler and D. Seibold\n",
    " * dual-cell time-stepping for Maxwell with M. Wess, B. Kapidani and L. Codecasa\n",
    " * [ngsPETSc](https://ngspetsc.readthedocs.io/en/latest) PETSc interface, U. Zerbinati et al "
   ]
  },
  {
   "cell_type": "markdown",
   "id": "d45a0b8c",
   "metadata": {},
   "source": [
    "If you like to hear more of NGSolve:\n",
    "* **NGSolve User Meeting 2024: Vienna, June 17-19**"
   ]
  },
  {
   "cell_type": "code",
   "execution_count": null,
   "id": "4cd248e8",
   "metadata": {},
   "outputs": [],
   "source": []
  }
 ],
 "metadata": {
  "kernelspec": {
   "display_name": "Python 3 (ipykernel)",
   "language": "python",
   "name": "python3"
  },
  "language_info": {
   "codemirror_mode": {
    "name": "ipython",
    "version": 3
   },
   "file_extension": ".py",
   "mimetype": "text/x-python",
   "name": "python",
   "nbconvert_exporter": "python",
   "pygments_lexer": "ipython3",
   "version": "3.12.4"
  }
 },
 "nbformat": 4,
 "nbformat_minor": 5
}
